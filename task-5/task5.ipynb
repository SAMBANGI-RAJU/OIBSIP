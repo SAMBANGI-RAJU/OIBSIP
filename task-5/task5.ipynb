{
 "cells": [
  {
   "cell_type": "markdown",
   "id": "35cacdaf",
   "metadata": {},
   "source": [
    "# importing libraries"
   ]
  },
  {
   "cell_type": "code",
   "execution_count": 58,
   "id": "34b8b370",
   "metadata": {},
   "outputs": [],
   "source": [
    "import numpy as np\n",
    "import pandas as pd\n",
    "import matplotlib.pyplot as plt\n",
    "%matplotlib inline\n",
    "import seaborn as sns"
   ]
  },
  {
   "cell_type": "markdown",
   "id": "237063b6",
   "metadata": {},
   "source": [
    "# Loading the dataset"
   ]
  },
  {
   "cell_type": "code",
   "execution_count": 95,
   "id": "27749a1d",
   "metadata": {},
   "outputs": [],
   "source": [
    "df=pd.read_csv(r\"C:\\Users\\samba\\OneDrive\\Desktop\\OIBSIP\\task-5\\Advertising.csv\")"
   ]
  },
  {
   "cell_type": "code",
   "execution_count": 96,
   "id": "83331048",
   "metadata": {},
   "outputs": [
    {
     "data": {
      "text/html": [
       "<div>\n",
       "<style scoped>\n",
       "    .dataframe tbody tr th:only-of-type {\n",
       "        vertical-align: middle;\n",
       "    }\n",
       "\n",
       "    .dataframe tbody tr th {\n",
       "        vertical-align: top;\n",
       "    }\n",
       "\n",
       "    .dataframe thead th {\n",
       "        text-align: right;\n",
       "    }\n",
       "</style>\n",
       "<table border=\"1\" class=\"dataframe\">\n",
       "  <thead>\n",
       "    <tr style=\"text-align: right;\">\n",
       "      <th></th>\n",
       "      <th>Unnamed: 0</th>\n",
       "      <th>TV</th>\n",
       "      <th>Radio</th>\n",
       "      <th>Newspaper</th>\n",
       "      <th>Sales</th>\n",
       "    </tr>\n",
       "  </thead>\n",
       "  <tbody>\n",
       "    <tr>\n",
       "      <th>0</th>\n",
       "      <td>1</td>\n",
       "      <td>230.1</td>\n",
       "      <td>37.8</td>\n",
       "      <td>69.2</td>\n",
       "      <td>22.1</td>\n",
       "    </tr>\n",
       "    <tr>\n",
       "      <th>1</th>\n",
       "      <td>2</td>\n",
       "      <td>44.5</td>\n",
       "      <td>39.3</td>\n",
       "      <td>45.1</td>\n",
       "      <td>10.4</td>\n",
       "    </tr>\n",
       "    <tr>\n",
       "      <th>2</th>\n",
       "      <td>3</td>\n",
       "      <td>17.2</td>\n",
       "      <td>45.9</td>\n",
       "      <td>69.3</td>\n",
       "      <td>9.3</td>\n",
       "    </tr>\n",
       "    <tr>\n",
       "      <th>3</th>\n",
       "      <td>4</td>\n",
       "      <td>151.5</td>\n",
       "      <td>41.3</td>\n",
       "      <td>58.5</td>\n",
       "      <td>18.5</td>\n",
       "    </tr>\n",
       "    <tr>\n",
       "      <th>4</th>\n",
       "      <td>5</td>\n",
       "      <td>180.8</td>\n",
       "      <td>10.8</td>\n",
       "      <td>58.4</td>\n",
       "      <td>12.9</td>\n",
       "    </tr>\n",
       "  </tbody>\n",
       "</table>\n",
       "</div>"
      ],
      "text/plain": [
       "   Unnamed: 0     TV  Radio  Newspaper  Sales\n",
       "0           1  230.1   37.8       69.2   22.1\n",
       "1           2   44.5   39.3       45.1   10.4\n",
       "2           3   17.2   45.9       69.3    9.3\n",
       "3           4  151.5   41.3       58.5   18.5\n",
       "4           5  180.8   10.8       58.4   12.9"
      ]
     },
     "execution_count": 96,
     "metadata": {},
     "output_type": "execute_result"
    }
   ],
   "source": [
    "df.head()"
   ]
  },
  {
   "cell_type": "markdown",
   "id": "a92b2339",
   "metadata": {},
   "source": [
    "# describing the data"
   ]
  },
  {
   "cell_type": "code",
   "execution_count": 97,
   "id": "99273aaf",
   "metadata": {},
   "outputs": [
    {
     "data": {
      "text/html": [
       "<div>\n",
       "<style scoped>\n",
       "    .dataframe tbody tr th:only-of-type {\n",
       "        vertical-align: middle;\n",
       "    }\n",
       "\n",
       "    .dataframe tbody tr th {\n",
       "        vertical-align: top;\n",
       "    }\n",
       "\n",
       "    .dataframe thead th {\n",
       "        text-align: right;\n",
       "    }\n",
       "</style>\n",
       "<table border=\"1\" class=\"dataframe\">\n",
       "  <thead>\n",
       "    <tr style=\"text-align: right;\">\n",
       "      <th></th>\n",
       "      <th>Unnamed: 0</th>\n",
       "      <th>TV</th>\n",
       "      <th>Radio</th>\n",
       "      <th>Newspaper</th>\n",
       "      <th>Sales</th>\n",
       "    </tr>\n",
       "  </thead>\n",
       "  <tbody>\n",
       "    <tr>\n",
       "      <th>count</th>\n",
       "      <td>200.000000</td>\n",
       "      <td>200.000000</td>\n",
       "      <td>200.000000</td>\n",
       "      <td>200.000000</td>\n",
       "      <td>200.000000</td>\n",
       "    </tr>\n",
       "    <tr>\n",
       "      <th>mean</th>\n",
       "      <td>100.500000</td>\n",
       "      <td>147.042500</td>\n",
       "      <td>23.264000</td>\n",
       "      <td>30.554000</td>\n",
       "      <td>14.022500</td>\n",
       "    </tr>\n",
       "    <tr>\n",
       "      <th>std</th>\n",
       "      <td>57.879185</td>\n",
       "      <td>85.854236</td>\n",
       "      <td>14.846809</td>\n",
       "      <td>21.778621</td>\n",
       "      <td>5.217457</td>\n",
       "    </tr>\n",
       "    <tr>\n",
       "      <th>min</th>\n",
       "      <td>1.000000</td>\n",
       "      <td>0.700000</td>\n",
       "      <td>0.000000</td>\n",
       "      <td>0.300000</td>\n",
       "      <td>1.600000</td>\n",
       "    </tr>\n",
       "    <tr>\n",
       "      <th>25%</th>\n",
       "      <td>50.750000</td>\n",
       "      <td>74.375000</td>\n",
       "      <td>9.975000</td>\n",
       "      <td>12.750000</td>\n",
       "      <td>10.375000</td>\n",
       "    </tr>\n",
       "    <tr>\n",
       "      <th>50%</th>\n",
       "      <td>100.500000</td>\n",
       "      <td>149.750000</td>\n",
       "      <td>22.900000</td>\n",
       "      <td>25.750000</td>\n",
       "      <td>12.900000</td>\n",
       "    </tr>\n",
       "    <tr>\n",
       "      <th>75%</th>\n",
       "      <td>150.250000</td>\n",
       "      <td>218.825000</td>\n",
       "      <td>36.525000</td>\n",
       "      <td>45.100000</td>\n",
       "      <td>17.400000</td>\n",
       "    </tr>\n",
       "    <tr>\n",
       "      <th>max</th>\n",
       "      <td>200.000000</td>\n",
       "      <td>296.400000</td>\n",
       "      <td>49.600000</td>\n",
       "      <td>114.000000</td>\n",
       "      <td>27.000000</td>\n",
       "    </tr>\n",
       "  </tbody>\n",
       "</table>\n",
       "</div>"
      ],
      "text/plain": [
       "       Unnamed: 0          TV       Radio   Newspaper       Sales\n",
       "count  200.000000  200.000000  200.000000  200.000000  200.000000\n",
       "mean   100.500000  147.042500   23.264000   30.554000   14.022500\n",
       "std     57.879185   85.854236   14.846809   21.778621    5.217457\n",
       "min      1.000000    0.700000    0.000000    0.300000    1.600000\n",
       "25%     50.750000   74.375000    9.975000   12.750000   10.375000\n",
       "50%    100.500000  149.750000   22.900000   25.750000   12.900000\n",
       "75%    150.250000  218.825000   36.525000   45.100000   17.400000\n",
       "max    200.000000  296.400000   49.600000  114.000000   27.000000"
      ]
     },
     "execution_count": 97,
     "metadata": {},
     "output_type": "execute_result"
    }
   ],
   "source": [
    "df.describe()"
   ]
  },
  {
   "cell_type": "code",
   "execution_count": 98,
   "id": "019e57a8",
   "metadata": {},
   "outputs": [
    {
     "data": {
      "text/plain": [
       "(200, 5)"
      ]
     },
     "execution_count": 98,
     "metadata": {},
     "output_type": "execute_result"
    }
   ],
   "source": [
    "df.shape"
   ]
  },
  {
   "cell_type": "markdown",
   "id": "09124e1c",
   "metadata": {},
   "source": [
    "# checking for missing values"
   ]
  },
  {
   "cell_type": "code",
   "execution_count": 99,
   "id": "f0f1d29f",
   "metadata": {},
   "outputs": [
    {
     "data": {
      "text/plain": [
       "Unnamed: 0    0\n",
       "TV            0\n",
       "Radio         0\n",
       "Newspaper     0\n",
       "Sales         0\n",
       "dtype: int64"
      ]
     },
     "execution_count": 99,
     "metadata": {},
     "output_type": "execute_result"
    }
   ],
   "source": [
    "df.isnull().sum()"
   ]
  },
  {
   "cell_type": "code",
   "execution_count": 100,
   "id": "5363ed07",
   "metadata": {},
   "outputs": [],
   "source": [
    "x=df[['TV','Radio','Newspaper']]\n",
    "y=df[['Sales']]\n"
   ]
  },
  {
   "cell_type": "markdown",
   "id": "336fa156",
   "metadata": {},
   "source": [
    "# Histogram"
   ]
  },
  {
   "cell_type": "code",
   "execution_count": 101,
   "id": "f0f27abf",
   "metadata": {},
   "outputs": [
    {
     "data": {
      "image/png": "[encoded data removed]",
      "text/plain": [
       "<Figure size 432x288 with 1 Axes>"
      ]
     },
     "metadata": {
      "needs_background": "light"
     },
     "output_type": "display_data"
    }
   ],
   "source": [
    "plt.hist(df['Sales'])\n",
    "plt.show()"
   ]
  },
  {
   "cell_type": "code",
   "execution_count": 102,
   "id": "7a8ca9e0",
   "metadata": {},
   "outputs": [
    {
     "name": "stderr",
     "output_type": "stream",
     "text": [
      "C:\\Users\\samba\\AppData\\Local\\Programs\\Python\\Python310\\lib\\site-packages\\seaborn\\distributions.py:2619: FutureWarning: `distplot` is a deprecated function and will be removed in a future version. Please adapt your code to use either `displot` (a figure-level function with similar flexibility) or `kdeplot` (an axes-level function for kernel density plots).\n",
      "  warnings.warn(msg, FutureWarning)\n"
     ]
    },
    {
     "data": {
      "image/png": "[encoded data removed]",
      "text/plain": [
       "<Figure size 432x288 with 1 Axes>"
      ]
     },
     "metadata": {
      "needs_background": "light"
     },
     "output_type": "display_data"
    }
   ],
   "source": [
    "sns.distplot(df['Sales'],hist=False)\n",
    "plt.show()"
   ]
  },
  {
   "cell_type": "code",
   "execution_count": 103,
   "id": "16b2a674",
   "metadata": {},
   "outputs": [
    {
     "data": {
      "image/png": "[encoded data removed]",
      "text/plain": [
       "<Figure size 432x288 with 2 Axes>"
      ]
     },
     "metadata": {
      "needs_background": "light"
     },
     "output_type": "display_data"
    }
   ],
   "source": [
    "corr=df.corr()\n",
    "sns.heatmap(corr,annot=True)\n",
    "plt.show()"
   ]
  },
  {
   "cell_type": "markdown",
   "id": "dea6d581",
   "metadata": {},
   "source": [
    "# spliting the data into training and testing"
   ]
  },
  {
   "cell_type": "code",
   "execution_count": 116,
   "id": "fb89ce28",
   "metadata": {},
   "outputs": [],
   "source": [
    "from sklearn.model_selection import train_test_split\n",
    "x_train,x_test,y_train,y_test=train_test_split(x,y,test_size=0.2,random_state=30)"
   ]
  },
  {
   "cell_type": "code",
   "execution_count": 117,
   "id": "7ed32803",
   "metadata": {},
   "outputs": [
    {
     "data": {
      "text/html": [
       "<div>\n",
       "<style scoped>\n",
       "    .dataframe tbody tr th:only-of-type {\n",
       "        vertical-align: middle;\n",
       "    }\n",
       "\n",
       "    .dataframe tbody tr th {\n",
       "        vertical-align: top;\n",
       "    }\n",
       "\n",
       "    .dataframe thead th {\n",
       "        text-align: right;\n",
       "    }\n",
       "</style>\n",
       "<table border=\"1\" class=\"dataframe\">\n",
       "  <thead>\n",
       "    <tr style=\"text-align: right;\">\n",
       "      <th></th>\n",
       "      <th>TV</th>\n",
       "      <th>Radio</th>\n",
       "      <th>Newspaper</th>\n",
       "    </tr>\n",
       "  </thead>\n",
       "  <tbody>\n",
       "    <tr>\n",
       "      <th>125</th>\n",
       "      <td>87.2</td>\n",
       "      <td>11.8</td>\n",
       "      <td>25.9</td>\n",
       "    </tr>\n",
       "    <tr>\n",
       "      <th>60</th>\n",
       "      <td>53.5</td>\n",
       "      <td>2.0</td>\n",
       "      <td>21.4</td>\n",
       "    </tr>\n",
       "    <tr>\n",
       "      <th>90</th>\n",
       "      <td>134.3</td>\n",
       "      <td>4.9</td>\n",
       "      <td>9.3</td>\n",
       "    </tr>\n",
       "    <tr>\n",
       "      <th>152</th>\n",
       "      <td>197.6</td>\n",
       "      <td>23.3</td>\n",
       "      <td>14.2</td>\n",
       "    </tr>\n",
       "    <tr>\n",
       "      <th>40</th>\n",
       "      <td>202.5</td>\n",
       "      <td>22.3</td>\n",
       "      <td>31.6</td>\n",
       "    </tr>\n",
       "    <tr>\n",
       "      <th>...</th>\n",
       "      <td>...</td>\n",
       "      <td>...</td>\n",
       "      <td>...</td>\n",
       "    </tr>\n",
       "    <tr>\n",
       "      <th>140</th>\n",
       "      <td>73.4</td>\n",
       "      <td>17.0</td>\n",
       "      <td>12.9</td>\n",
       "    </tr>\n",
       "    <tr>\n",
       "      <th>45</th>\n",
       "      <td>175.1</td>\n",
       "      <td>22.5</td>\n",
       "      <td>31.5</td>\n",
       "    </tr>\n",
       "    <tr>\n",
       "      <th>173</th>\n",
       "      <td>168.4</td>\n",
       "      <td>7.1</td>\n",
       "      <td>12.8</td>\n",
       "    </tr>\n",
       "    <tr>\n",
       "      <th>165</th>\n",
       "      <td>234.5</td>\n",
       "      <td>3.4</td>\n",
       "      <td>84.8</td>\n",
       "    </tr>\n",
       "    <tr>\n",
       "      <th>37</th>\n",
       "      <td>74.7</td>\n",
       "      <td>49.4</td>\n",
       "      <td>45.7</td>\n",
       "    </tr>\n",
       "  </tbody>\n",
       "</table>\n",
       "<p>160 rows × 3 columns</p>\n",
       "</div>"
      ],
      "text/plain": [
       "        TV  Radio  Newspaper\n",
       "125   87.2   11.8       25.9\n",
       "60    53.5    2.0       21.4\n",
       "90   134.3    4.9        9.3\n",
       "152  197.6   23.3       14.2\n",
       "40   202.5   22.3       31.6\n",
       "..     ...    ...        ...\n",
       "140   73.4   17.0       12.9\n",
       "45   175.1   22.5       31.5\n",
       "173  168.4    7.1       12.8\n",
       "165  234.5    3.4       84.8\n",
       "37    74.7   49.4       45.7\n",
       "\n",
       "[160 rows x 3 columns]"
      ]
     },
     "execution_count": 117,
     "metadata": {},
     "output_type": "execute_result"
    }
   ],
   "source": [
    "x_train"
   ]
  },
  {
   "cell_type": "code",
   "execution_count": 118,
   "id": "5d7497a1",
   "metadata": {},
   "outputs": [
    {
     "data": {
      "text/html": [
       "<div>\n",
       "<style scoped>\n",
       "    .dataframe tbody tr th:only-of-type {\n",
       "        vertical-align: middle;\n",
       "    }\n",
       "\n",
       "    .dataframe tbody tr th {\n",
       "        vertical-align: top;\n",
       "    }\n",
       "\n",
       "    .dataframe thead th {\n",
       "        text-align: right;\n",
       "    }\n",
       "</style>\n",
       "<table border=\"1\" class=\"dataframe\">\n",
       "  <thead>\n",
       "    <tr style=\"text-align: right;\">\n",
       "      <th></th>\n",
       "      <th>TV</th>\n",
       "      <th>Radio</th>\n",
       "      <th>Newspaper</th>\n",
       "    </tr>\n",
       "  </thead>\n",
       "  <tbody>\n",
       "    <tr>\n",
       "      <th>143</th>\n",
       "      <td>104.6</td>\n",
       "      <td>5.7</td>\n",
       "      <td>34.4</td>\n",
       "    </tr>\n",
       "    <tr>\n",
       "      <th>81</th>\n",
       "      <td>239.8</td>\n",
       "      <td>4.1</td>\n",
       "      <td>36.9</td>\n",
       "    </tr>\n",
       "    <tr>\n",
       "      <th>26</th>\n",
       "      <td>142.9</td>\n",
       "      <td>29.3</td>\n",
       "      <td>12.6</td>\n",
       "    </tr>\n",
       "    <tr>\n",
       "      <th>150</th>\n",
       "      <td>280.7</td>\n",
       "      <td>13.9</td>\n",
       "      <td>37.0</td>\n",
       "    </tr>\n",
       "    <tr>\n",
       "      <th>124</th>\n",
       "      <td>229.5</td>\n",
       "      <td>32.3</td>\n",
       "      <td>74.2</td>\n",
       "    </tr>\n",
       "    <tr>\n",
       "      <th>24</th>\n",
       "      <td>62.3</td>\n",
       "      <td>12.6</td>\n",
       "      <td>18.3</td>\n",
       "    </tr>\n",
       "    <tr>\n",
       "      <th>126</th>\n",
       "      <td>7.8</td>\n",
       "      <td>38.9</td>\n",
       "      <td>50.6</td>\n",
       "    </tr>\n",
       "    <tr>\n",
       "      <th>142</th>\n",
       "      <td>220.5</td>\n",
       "      <td>33.2</td>\n",
       "      <td>37.9</td>\n",
       "    </tr>\n",
       "    <tr>\n",
       "      <th>129</th>\n",
       "      <td>59.6</td>\n",
       "      <td>12.0</td>\n",
       "      <td>43.1</td>\n",
       "    </tr>\n",
       "    <tr>\n",
       "      <th>171</th>\n",
       "      <td>164.5</td>\n",
       "      <td>20.9</td>\n",
       "      <td>47.4</td>\n",
       "    </tr>\n",
       "    <tr>\n",
       "      <th>72</th>\n",
       "      <td>26.8</td>\n",
       "      <td>33.0</td>\n",
       "      <td>19.3</td>\n",
       "    </tr>\n",
       "    <tr>\n",
       "      <th>97</th>\n",
       "      <td>184.9</td>\n",
       "      <td>21.0</td>\n",
       "      <td>22.0</td>\n",
       "    </tr>\n",
       "    <tr>\n",
       "      <th>21</th>\n",
       "      <td>237.4</td>\n",
       "      <td>5.1</td>\n",
       "      <td>23.5</td>\n",
       "    </tr>\n",
       "    <tr>\n",
       "      <th>67</th>\n",
       "      <td>139.3</td>\n",
       "      <td>14.5</td>\n",
       "      <td>10.2</td>\n",
       "    </tr>\n",
       "    <tr>\n",
       "      <th>106</th>\n",
       "      <td>25.0</td>\n",
       "      <td>11.0</td>\n",
       "      <td>29.7</td>\n",
       "    </tr>\n",
       "    <tr>\n",
       "      <th>184</th>\n",
       "      <td>253.8</td>\n",
       "      <td>21.3</td>\n",
       "      <td>30.0</td>\n",
       "    </tr>\n",
       "    <tr>\n",
       "      <th>111</th>\n",
       "      <td>241.7</td>\n",
       "      <td>38.0</td>\n",
       "      <td>23.2</td>\n",
       "    </tr>\n",
       "    <tr>\n",
       "      <th>63</th>\n",
       "      <td>102.7</td>\n",
       "      <td>29.6</td>\n",
       "      <td>8.4</td>\n",
       "    </tr>\n",
       "    <tr>\n",
       "      <th>93</th>\n",
       "      <td>250.9</td>\n",
       "      <td>36.5</td>\n",
       "      <td>72.3</td>\n",
       "    </tr>\n",
       "    <tr>\n",
       "      <th>183</th>\n",
       "      <td>287.6</td>\n",
       "      <td>43.0</td>\n",
       "      <td>71.8</td>\n",
       "    </tr>\n",
       "    <tr>\n",
       "      <th>86</th>\n",
       "      <td>76.3</td>\n",
       "      <td>27.5</td>\n",
       "      <td>16.0</td>\n",
       "    </tr>\n",
       "    <tr>\n",
       "      <th>158</th>\n",
       "      <td>11.7</td>\n",
       "      <td>36.9</td>\n",
       "      <td>45.2</td>\n",
       "    </tr>\n",
       "    <tr>\n",
       "      <th>133</th>\n",
       "      <td>219.8</td>\n",
       "      <td>33.5</td>\n",
       "      <td>45.1</td>\n",
       "    </tr>\n",
       "    <tr>\n",
       "      <th>50</th>\n",
       "      <td>199.8</td>\n",
       "      <td>3.1</td>\n",
       "      <td>34.6</td>\n",
       "    </tr>\n",
       "    <tr>\n",
       "      <th>99</th>\n",
       "      <td>135.2</td>\n",
       "      <td>41.7</td>\n",
       "      <td>45.9</td>\n",
       "    </tr>\n",
       "    <tr>\n",
       "      <th>199</th>\n",
       "      <td>232.1</td>\n",
       "      <td>8.6</td>\n",
       "      <td>8.7</td>\n",
       "    </tr>\n",
       "    <tr>\n",
       "      <th>189</th>\n",
       "      <td>18.7</td>\n",
       "      <td>12.1</td>\n",
       "      <td>23.4</td>\n",
       "    </tr>\n",
       "    <tr>\n",
       "      <th>101</th>\n",
       "      <td>296.4</td>\n",
       "      <td>36.3</td>\n",
       "      <td>100.9</td>\n",
       "    </tr>\n",
       "    <tr>\n",
       "      <th>100</th>\n",
       "      <td>222.4</td>\n",
       "      <td>4.3</td>\n",
       "      <td>49.8</td>\n",
       "    </tr>\n",
       "    <tr>\n",
       "      <th>103</th>\n",
       "      <td>187.9</td>\n",
       "      <td>17.2</td>\n",
       "      <td>17.9</td>\n",
       "    </tr>\n",
       "    <tr>\n",
       "      <th>139</th>\n",
       "      <td>184.9</td>\n",
       "      <td>43.9</td>\n",
       "      <td>1.7</td>\n",
       "    </tr>\n",
       "    <tr>\n",
       "      <th>57</th>\n",
       "      <td>136.2</td>\n",
       "      <td>19.2</td>\n",
       "      <td>16.6</td>\n",
       "    </tr>\n",
       "    <tr>\n",
       "      <th>36</th>\n",
       "      <td>266.9</td>\n",
       "      <td>43.8</td>\n",
       "      <td>5.0</td>\n",
       "    </tr>\n",
       "    <tr>\n",
       "      <th>114</th>\n",
       "      <td>78.2</td>\n",
       "      <td>46.8</td>\n",
       "      <td>34.5</td>\n",
       "    </tr>\n",
       "    <tr>\n",
       "      <th>54</th>\n",
       "      <td>262.7</td>\n",
       "      <td>28.8</td>\n",
       "      <td>15.9</td>\n",
       "    </tr>\n",
       "    <tr>\n",
       "      <th>25</th>\n",
       "      <td>262.9</td>\n",
       "      <td>3.5</td>\n",
       "      <td>19.5</td>\n",
       "    </tr>\n",
       "    <tr>\n",
       "      <th>1</th>\n",
       "      <td>44.5</td>\n",
       "      <td>39.3</td>\n",
       "      <td>45.1</td>\n",
       "    </tr>\n",
       "    <tr>\n",
       "      <th>149</th>\n",
       "      <td>44.7</td>\n",
       "      <td>25.8</td>\n",
       "      <td>20.6</td>\n",
       "    </tr>\n",
       "    <tr>\n",
       "      <th>193</th>\n",
       "      <td>166.8</td>\n",
       "      <td>42.0</td>\n",
       "      <td>3.6</td>\n",
       "    </tr>\n",
       "    <tr>\n",
       "      <th>121</th>\n",
       "      <td>18.8</td>\n",
       "      <td>21.7</td>\n",
       "      <td>50.4</td>\n",
       "    </tr>\n",
       "  </tbody>\n",
       "</table>\n",
       "</div>"
      ],
      "text/plain": [
       "        TV  Radio  Newspaper\n",
       "143  104.6    5.7       34.4\n",
       "81   239.8    4.1       36.9\n",
       "26   142.9   29.3       12.6\n",
       "150  280.7   13.9       37.0\n",
       "124  229.5   32.3       74.2\n",
       "24    62.3   12.6       18.3\n",
       "126    7.8   38.9       50.6\n",
       "142  220.5   33.2       37.9\n",
       "129   59.6   12.0       43.1\n",
       "171  164.5   20.9       47.4\n",
       "72    26.8   33.0       19.3\n",
       "97   184.9   21.0       22.0\n",
       "21   237.4    5.1       23.5\n",
       "67   139.3   14.5       10.2\n",
       "106   25.0   11.0       29.7\n",
       "184  253.8   21.3       30.0\n",
       "111  241.7   38.0       23.2\n",
       "63   102.7   29.6        8.4\n",
       "93   250.9   36.5       72.3\n",
       "183  287.6   43.0       71.8\n",
       "86    76.3   27.5       16.0\n",
       "158   11.7   36.9       45.2\n",
       "133  219.8   33.5       45.1\n",
       "50   199.8    3.1       34.6\n",
       "99   135.2   41.7       45.9\n",
       "199  232.1    8.6        8.7\n",
       "189   18.7   12.1       23.4\n",
       "101  296.4   36.3      100.9\n",
       "100  222.4    4.3       49.8\n",
       "103  187.9   17.2       17.9\n",
       "139  184.9   43.9        1.7\n",
       "57   136.2   19.2       16.6\n",
       "36   266.9   43.8        5.0\n",
       "114   78.2   46.8       34.5\n",
       "54   262.7   28.8       15.9\n",
       "25   262.9    3.5       19.5\n",
       "1     44.5   39.3       45.1\n",
       "149   44.7   25.8       20.6\n",
       "193  166.8   42.0        3.6\n",
       "121   18.8   21.7       50.4"
      ]
     },
     "execution_count": 118,
     "metadata": {},
     "output_type": "execute_result"
    }
   ],
   "source": [
    "x_test"
   ]
  },
  {
   "cell_type": "markdown",
   "id": "20a81b7e",
   "metadata": {},
   "source": [
    "# standard scaling"
   ]
  },
  {
   "cell_type": "code",
   "execution_count": 119,
   "id": "efbcc7ae",
   "metadata": {
    "scrolled": false
   },
   "outputs": [],
   "source": [
    "from sklearn.preprocessing import StandardScaler\n",
    "sc=StandardScaler()\n",
    "x_train=sc.fit_transform(x_train)\n",
    "x_test=sc.fit_transform(x_test)"
   ]
  },
  {
   "cell_type": "code",
   "execution_count": 120,
   "id": "a156bf4f",
   "metadata": {},
   "outputs": [
    {
     "data": {
      "text/plain": [
       "array([[-6.79251307e-01, -7.33930202e-01, -1.90350451e-01],\n",
       "       [-1.08052255e+00, -1.38303763e+00, -3.96878970e-01],\n",
       "       [-1.18424135e-01, -1.19095482e+00, -9.52211209e-01],\n",
       "       [ 6.35299008e-01,  2.77774926e-02, -7.27324600e-01],\n",
       "       [ 6.93644085e-01, -3.84579591e-02,  7.12523389e-02],\n",
       "       [ 1.63311890e+00,  1.10741536e+00,  1.18191682e+00],\n",
       "       [ 1.02228166e+00,  9.88191542e-01,  1.79691285e+00],\n",
       "       [-1.48417523e+00, -1.84175953e-01, -5.98817966e-01],\n",
       "       [ 7.23411982e-01,  1.47171034e+00, -4.79490377e-01],\n",
       "       [-1.43416517e+00,  8.09355823e-01,  1.64545860e+00],\n",
       "       [-3.99433079e-01,  1.17365081e+00,  1.52154149e+00],\n",
       "       [ 8.63789941e-02,  1.22001562e+00,  1.30583393e+00],\n",
       "       [ 1.17826544e+00,  1.73002860e+00,  6.54121714e-01],\n",
       "       [-1.24722278e+00,  1.20676853e+00, -1.11284450e+00],\n",
       "       [ 7.91282786e-01,  4.38437293e-01, -9.52211209e-01],\n",
       "       [ 8.74632897e-01,  7.03379100e-01,  1.32878154e+00],\n",
       "       [-1.51275241e+00,  1.52469870e+00,  1.80150237e+00],\n",
       "       [ 9.05591510e-01,  1.73002860e+00, -1.23217209e+00],\n",
       "       [ 8.82967908e-01,  3.19213480e-01,  1.07176827e+00],\n",
       "       [ 8.47246432e-01,  4.76481281e-02,  1.26452822e+00],\n",
       "       [-1.61396326e+00,  1.72340506e+00,  2.06310516e+00],\n",
       "       [-1.61515398e+00, -1.37641408e+00, -1.33314159e+00],\n",
       "       [ 1.47105503e-01, -1.34329636e+00, -9.98106435e-01],\n",
       "       [-4.38726703e-01, -5.88212208e-01, -8.78778847e-01],\n",
       "       [ 1.77838624e+00,  3.19213480e-01, -1.29642541e+00],\n",
       "       [ 6.35299008e-01, -1.28368445e+00, -1.10825498e+00],\n",
       "       [-8.07848621e-01, -1.46252017e+00, -6.99787464e-01],\n",
       "       [-2.82742924e-01,  3.72201841e-01, -7.27324600e-01],\n",
       "       [ 5.88861089e-01,  8.29226458e-01,  2.09064230e+00],\n",
       "       [-1.20435700e+00,  2.52978028e-01,  2.31885631e-01],\n",
       "       [-1.49382747e-01, -2.96776221e-01,  2.08938018e-01],\n",
       "       [ 1.10920392e+00,  3.05966390e-01, -8.74189324e-01],\n",
       "       [-1.51275241e+00, -1.24394318e+00,  7.12523389e-02],\n",
       "       [-1.76769212e-01, -1.13796646e+00,  5.74837710e-02],\n",
       "       [ 3.36429326e-01, -3.16646856e-01,  2.99466352e-02],\n",
       "       [-1.63063328e+00,  3.45707661e-01,  5.21025557e-01],\n",
       "       [ 7.12695539e-01,  6.63637829e-01,  7.32143598e-01],\n",
       "       [-5.60179721e-01, -1.41615535e+00, -2.18002325e-03],\n",
       "       [ 2.54269931e-01, -8.53154015e-01, -5.71280830e-01],\n",
       "       [ 8.24622831e-01,  1.33261589e+00,  1.72221837e-01],\n",
       "       [ 3.90011540e-01,  6.96755555e-01,  3.97108446e-01],\n",
       "       [-1.34248004e+00,  1.13883580e-01, -1.27806732e+00],\n",
       "       [-6.66153433e-01,  1.73495486e-01,  1.98967280e+00],\n",
       "       [-8.20946495e-01, -1.70928863e-01,  1.12558043e-01],\n",
       "       [ 1.32353278e+00,  2.66225119e-01, -1.12661307e+00],\n",
       "       [-1.41273228e+00,  1.06767408e+00, -9.52211209e-01],\n",
       "       [ 6.53159746e-01,  5.11296290e-01,  3.97108446e-01],\n",
       "       [ 1.74385548e+00, -1.24394318e+00, -9.88927390e-01],\n",
       "       [ 5.18608853e-01, -1.17940501e-01, -9.43032164e-01],\n",
       "       [ 9.71080882e-01, -9.72377828e-01,  1.21404348e+00],\n",
       "       [-4.10149522e-01,  1.65054606e+00,  9.79977821e-01],\n",
       "       [ 1.68789183e+00, -5.94835753e-01, -1.20922448e+00],\n",
       "       [ 5.57902477e-01,  3.85448932e-01, -5.43743694e-01],\n",
       "       [ 7.44844868e-01, -1.17108418e+00, -4.88669423e-01],\n",
       "       [-1.50441740e+00,  9.74944452e-01, -3.87699925e-01],\n",
       "       [ 1.13897182e+00,  1.23326271e+00, -5.29975126e-01],\n",
       "       [-9.03105890e-01,  1.43196907e+00,  2.54833244e-01],\n",
       "       [ 3.74532234e-01, -4.95482576e-01, -1.26888827e+00],\n",
       "       [ 1.77005123e+00,  3.58954751e-01,  6.03636965e-01],\n",
       "       [ 8.23432115e-01,  1.13883580e-01, -7.77809349e-01],\n",
       "       [-1.14243978e+00,  1.59755770e+00, -9.88927390e-01],\n",
       "       [-1.26270208e+00, -1.27043736e+00, -7.45682690e-01],\n",
       "       [-1.03289392e+00,  6.57014284e-01, -3.00498995e-01],\n",
       "       [ 1.39378501e+00,  1.31274526e+00,  1.13143207e+00],\n",
       "       [-8.23327927e-01,  8.02732278e-01,  1.03964162e+00],\n",
       "       [ 1.14135325e+00, -1.03198973e+00, -9.79748345e-01],\n",
       "       [-2.51784312e-01,  7.76238097e-01, -8.09936007e-01],\n",
       "       [ 5.82907510e-01, -2.96776221e-01,  1.63627956e+00],\n",
       "       [-5.22076813e-01, -8.79648196e-01, -1.21381400e+00],\n",
       "       [-1.39010868e+00, -1.40953181e+00, -4.29005628e-01],\n",
       "       [-1.66873619e+00, -7.47177292e-01, -1.11743402e+00],\n",
       "       [-1.04837323e+00, -1.13796646e+00, -1.59485912e-02],\n",
       "       [-8.18565064e-01, -8.00165654e-01, -1.10366546e+00],\n",
       "       [-8.76910141e-01, -4.55741305e-01,  4.93488421e-01],\n",
       "       [-3.22036548e-01, -5.41847392e-01, -1.13120259e+00],\n",
       "       [ 1.00084878e+00, -3.96129398e-01, -1.76581883e-01],\n",
       "       [ 9.49647997e-01, -1.35654345e+00, -6.63071283e-01],\n",
       "       [-3.73237330e-01, -3.63011673e-01,  3.92518923e-01],\n",
       "       [-1.61753541e+00,  2.86095754e-01, -1.28265684e+00],\n",
       "       [-2.20825699e-01,  9.28579636e-01,  2.25586511e+00],\n",
       "       [-1.26508351e+00,  1.15378017e+00, -8.32883620e-01],\n",
       "       [-8.07848621e-01,  2.52978028e-01, -3.55573266e-01],\n",
       "       [-1.56157176e+00, -1.48901435e+00, -2.04119019e-01],\n",
       "       [ 1.65931465e+00,  1.26638044e+00,  1.65922717e+00],\n",
       "       [ 9.87750904e-01, -4.68988395e-01,  9.11134981e-01],\n",
       "       [ 1.57715526e+00, -1.36316699e+00, -2.91319949e-01],\n",
       "       [-4.10149522e-01, -5.68341573e-01,  7.58418616e-02],\n",
       "       [-5.95901197e-01, -1.19095482e+00, -1.00728548e+00],\n",
       "       [-1.20554772e+00,  1.99989667e-01, -4.38184674e-01],\n",
       "       [ 7.92473502e-01,  1.76976987e+00,  3.51213220e-01],\n",
       "       [-6.41148400e-01, -1.49563790e+00, -3.14267562e-01],\n",
       "       [-3.36325138e-01, -1.00549555e+00, -3.18857085e-01],\n",
       "       [ 1.24018267e+00,  4.84802109e-01, -4.47363719e-01],\n",
       "       [-9.30492355e-01, -1.13134291e+00, -2.68372336e-01],\n",
       "       [-7.62601418e-01, -1.51550853e+00, -9.56800731e-01],\n",
       "       [ 1.73194832e+00,  1.28625108e+00,  9.70798776e-01],\n",
       "       [ 4.35258743e-01, -8.00165654e-01,  1.30124441e+00],\n",
       "       [-1.12219761e+00, -7.47177292e-01, -5.34564649e-01],\n",
       "       [ 6.61494757e-01, -1.34329636e+00, -4.06058015e-01],\n",
       "       [ 1.44498580e+00, -1.90799498e-01, -1.36526825e+00],\n",
       "       [ 6.61368244e-02, -1.42940245e+00, -2.63782813e-01],\n",
       "       [-9.10250185e-01,  9.08709000e-01,  3.85301899e+00],\n",
       "       [ 1.24494553e+00,  2.79472209e-01, -3.28036130e-01],\n",
       "       [ 7.46035584e-01, -9.59130738e-01, -1.67402838e-01],\n",
       "       [-5.78040459e-01, -1.42277890e+00, -1.03941214e+00],\n",
       "       [-1.41868586e+00,  1.86742577e-01,  6.08226487e-01],\n",
       "       [ 8.59153591e-01,  1.24650980e+00,  4.38414150e-01],\n",
       "       [-9.20966628e-01, -7.40553747e-01,  3.09907516e-01],\n",
       "       [ 3.63689277e-02,  6.75187636e-02, -5.02437991e-01],\n",
       "       [ 5.25753148e-01, -3.16646856e-01, -2.04119019e-01],\n",
       "       [-7.55583636e-02,  1.55781643e+00,  1.32878154e+00],\n",
       "       [ 8.63916454e-01,  1.39222780e+00, -1.30686657e-01],\n",
       "       [-5.65069098e-02, -1.37641408e+00, -1.58223793e-01],\n",
       "       [ 3.22140735e-01,  1.11403890e+00,  3.51213220e-01],\n",
       "       [-1.56038105e+00, -4.62364850e-01,  8.97366413e-01],\n",
       "       [-3.50740242e-02,  2.59601574e-01,  7.41322644e-01],\n",
       "       [ 1.54143378e+00,  3.98696022e-01,  1.36090820e+00],\n",
       "       [ 9.97276631e-01,  9.81567997e-01,  8.96104295e-02],\n",
       "       [ 2.26883466e-01,  5.77531742e-01,  1.04882066e+00],\n",
       "       [-1.51632456e+00,  1.37898071e+00,  2.72399642e+00],\n",
       "       [ 1.11872965e+00,  7.56367461e-01, -1.13579211e+00],\n",
       "       [-1.65325689e+00,  4.64931474e-01, -9.47621686e-01],\n",
       "       [-1.37701080e+00, -1.41615535e+00,  1.35505656e-01],\n",
       "       [ 7.78184912e-01, -1.51058227e-01, -8.87957892e-01],\n",
       "       [-5.99473344e-01,  1.36573362e+00,  9.38672117e-01],\n",
       "       [ 6.50778314e-01,  1.75652278e+00,  1.37467677e+00],\n",
       "       [-6.97112045e-01,  8.55720639e-01,  8.83597845e-01],\n",
       "       [-5.56607573e-01, -1.01211910e+00, -1.04859118e+00],\n",
       "       [ 6.49461085e-02,  8.42473549e-01, -1.10366546e+00],\n",
       "       [ 6.09103259e-01,  1.64392251e+00,  1.04882066e+00],\n",
       "       [ 8.38911421e-01,  7.41423088e-02, -1.19545591e+00],\n",
       "       [ 1.57953669e+00,  1.72340506e+00,  5.39383648e-01],\n",
       "       [-1.56527042e-01,  1.31936880e+00, -5.26647722e-02],\n",
       "       [-6.49483411e-01, -8.59777560e-01,  2.59422767e-01],\n",
       "       [ 1.14135325e+00, -4.09376489e-01, -3.28036130e-01],\n",
       "       [ 1.13182752e+00, -4.88859031e-01, -1.26097134e-01],\n",
       "       [-1.27818139e+00,  1.04117990e+00,  1.63169004e+00],\n",
       "       [-5.72086880e-01, -5.35223847e-01,  4.06287491e-01],\n",
       "       [ 1.61883031e+00, -8.46530470e-01, -3.96878970e-01],\n",
       "       [-6.00790574e-02, -5.68341573e-01, -2.04119019e-01],\n",
       "       [ 8.84158624e-01, -1.15783709e+00, -1.21507612e-01],\n",
       "       [-8.93580163e-01, -1.57681772e-01, -5.39154172e-01],\n",
       "       [ 2.29264898e-01,  9.21956091e-01, -1.03941214e+00],\n",
       "       [ 3.90011540e-01, -8.99518831e-01, -1.08530737e+00],\n",
       "       [ 3.09042861e-01, -9.98872009e-01,  2.36475154e-01],\n",
       "       [-8.95961595e-01, -8.99518831e-01, -1.33773111e+00],\n",
       "       [-1.48655666e+00, -4.55741305e-01, -3.55573266e-01],\n",
       "       [-2.86315072e-01, -2.17293679e-01, -8.46652188e-01],\n",
       "       [ 1.66764966e+00, -8.13412744e-01, -1.08530737e+00],\n",
       "       [ 1.44022293e+00, -1.32342572e+00,  5.94457919e-01],\n",
       "       [ 9.30596543e-01, -1.29030800e+00, -7.77809349e-01],\n",
       "       [-4.69811829e-02, -1.38966117e+00, -9.65979777e-01],\n",
       "       [ 4.56691628e-01,  1.54456934e+00,  1.31501297e+00],\n",
       "       [-1.70922053e+00,  1.10741536e+00, -9.79748345e-01],\n",
       "       [-2.76789345e-01, -9.59130738e-01,  8.56060710e-01],\n",
       "       [-8.43570097e-01, -3.89505853e-01, -7.86988394e-01],\n",
       "       [ 3.67387938e-01, -2.52108688e-02,  6.66628163e-02],\n",
       "       [ 2.87609975e-01, -1.04523683e+00, -7.91577917e-01],\n",
       "       [ 1.07467316e+00, -1.29030800e+00,  2.51287838e+00],\n",
       "       [-8.28090791e-01,  1.75652278e+00,  7.18375031e-01]])"
      ]
     },
     "execution_count": 120,
     "metadata": {},
     "output_type": "execute_result"
    }
   ],
   "source": [
    "x_train #after scaling"
   ]
  },
  {
   "cell_type": "markdown",
   "id": "008ccacd",
   "metadata": {},
   "source": [
    "# model training "
   ]
  },
  {
   "cell_type": "code",
   "execution_count": 121,
   "id": "d3a67ea1",
   "metadata": {},
   "outputs": [
    {
     "data": {
      "text/html": [
       "<style>#sk-container-id-11 {color: black;background-color: white;}#sk-container-id-11 pre{padding: 0;}#sk-container-id-11 div.sk-toggleable {background-color: white;}#sk-container-id-11 label.sk-toggleable__label {cursor: pointer;display: block;width: 100%;margin-bottom: 0;padding: 0.3em;box-sizing: border-box;text-align: center;}#sk-container-id-11 label.sk-toggleable__label-arrow:before {content: \"▸\";float: left;margin-right: 0.25em;color: #696969;}#sk-container-id-11 label.sk-toggleable__label-arrow:hover:before {color: black;}#sk-container-id-11 div.sk-estimator:hover label.sk-toggleable__label-arrow:before {color: black;}#sk-container-id-11 div.sk-toggleable__content {max-height: 0;max-width: 0;overflow: hidden;text-align: left;background-color: #f0f8ff;}#sk-container-id-11 div.sk-toggleable__content pre {margin: 0.2em;color: black;border-radius: 0.25em;background-color: #f0f8ff;}#sk-container-id-11 input.sk-toggleable__control:checked~div.sk-toggleable__content {max-height: 200px;max-width: 100%;overflow: auto;}#sk-container-id-11 input.sk-toggleable__control:checked~label.sk-toggleable__label-arrow:before {content: \"▾\";}#sk-container-id-11 div.sk-estimator input.sk-toggleable__control:checked~label.sk-toggleable__label {background-color: #d4ebff;}#sk-container-id-11 div.sk-label input.sk-toggleable__control:checked~label.sk-toggleable__label {background-color: #d4ebff;}#sk-container-id-11 input.sk-hidden--visually {border: 0;clip: rect(1px 1px 1px 1px);clip: rect(1px, 1px, 1px, 1px);height: 1px;margin: -1px;overflow: hidden;padding: 0;position: absolute;width: 1px;}#sk-container-id-11 div.sk-estimator {font-family: monospace;background-color: #f0f8ff;border: 1px dotted black;border-radius: 0.25em;box-sizing: border-box;margin-bottom: 0.5em;}#sk-container-id-11 div.sk-estimator:hover {background-color: #d4ebff;}#sk-container-id-11 div.sk-parallel-item::after {content: \"\";width: 100%;border-bottom: 1px solid gray;flex-grow: 1;}#sk-container-id-11 div.sk-label:hover label.sk-toggleable__label {background-color: #d4ebff;}#sk-container-id-11 div.sk-serial::before {content: \"\";position: absolute;border-left: 1px solid gray;box-sizing: border-box;top: 0;bottom: 0;left: 50%;z-index: 0;}#sk-container-id-11 div.sk-serial {display: flex;flex-direction: column;align-items: center;background-color: white;padding-right: 0.2em;padding-left: 0.2em;position: relative;}#sk-container-id-11 div.sk-item {position: relative;z-index: 1;}#sk-container-id-11 div.sk-parallel {display: flex;align-items: stretch;justify-content: center;background-color: white;position: relative;}#sk-container-id-11 div.sk-item::before, #sk-container-id-11 div.sk-parallel-item::before {content: \"\";position: absolute;border-left: 1px solid gray;box-sizing: border-box;top: 0;bottom: 0;left: 50%;z-index: -1;}#sk-container-id-11 div.sk-parallel-item {display: flex;flex-direction: column;z-index: 1;position: relative;background-color: white;}#sk-container-id-11 div.sk-parallel-item:first-child::after {align-self: flex-end;width: 50%;}#sk-container-id-11 div.sk-parallel-item:last-child::after {align-self: flex-start;width: 50%;}#sk-container-id-11 div.sk-parallel-item:only-child::after {width: 0;}#sk-container-id-11 div.sk-dashed-wrapped {border: 1px dashed gray;margin: 0 0.4em 0.5em 0.4em;box-sizing: border-box;padding-bottom: 0.4em;background-color: white;}#sk-container-id-11 div.sk-label label {font-family: monospace;font-weight: bold;display: inline-block;line-height: 1.2em;}#sk-container-id-11 div.sk-label-container {text-align: center;}#sk-container-id-11 div.sk-container {/* jupyter's `normalize.less` sets `[hidden] { display: none; }` but bootstrap.min.css set `[hidden] { display: none !important; }` so we also need the `!important` here to be able to override the default hidden behavior on the sphinx rendered scikit-learn.org. See: https://github.com/scikit-learn/scikit-learn/issues/21755 */display: inline-block !important;position: relative;}#sk-container-id-11 div.sk-text-repr-fallback {display: none;}</style><div id=\"sk-container-id-11\" class=\"sk-top-container\"><div class=\"sk-text-repr-fallback\"><pre>LinearRegression()</pre><b>In a Jupyter environment, please rerun this cell to show the HTML representation or trust the notebook. <br />On GitHub, the HTML representation is unable to render, please try loading this page with nbviewer.org.</b></div><div class=\"sk-container\" hidden><div class=\"sk-item\"><div class=\"sk-estimator sk-toggleable\"><input class=\"sk-toggleable__control sk-hidden--visually\" id=\"sk-estimator-id-11\" type=\"checkbox\" checked><label for=\"sk-estimator-id-11\" class=\"sk-toggleable__label sk-toggleable__label-arrow\">LinearRegression</label><div class=\"sk-toggleable__content\"><pre>LinearRegression()</pre></div></div></div></div></div>"
      ],
      "text/plain": [
       "LinearRegression()"
      ]
     },
     "execution_count": 121,
     "metadata": {},
     "output_type": "execute_result"
    }
   ],
   "source": [
    "from sklearn.linear_model import LinearRegression\n",
    "lr=LinearRegression()\n",
    "lr.fit(x_train,y_train)"
   ]
  },
  {
   "cell_type": "markdown",
   "id": "7c053741",
   "metadata": {},
   "source": [
    "# prediction"
   ]
  },
  {
   "cell_type": "code",
   "execution_count": 122,
   "id": "74f57671",
   "metadata": {},
   "outputs": [
    {
     "name": "stdout",
     "output_type": "stream",
     "text": [
      "[[ 7.73760939]\n",
      " [13.11752534]\n",
      " [14.09689628]\n",
      " [16.83410148]\n",
      " [18.50667736]\n",
      " [ 7.31818844]\n",
      " [10.44578202]\n",
      " [18.22220286]\n",
      " [ 7.14256036]\n",
      " [13.3841698 ]\n",
      " [ 9.97133929]\n",
      " [14.20280866]\n",
      " [13.18714354]\n",
      " [10.93059476]\n",
      " [ 5.44825912]\n",
      " [17.18756202]\n",
      " [20.0559953 ]\n",
      " [12.45313484]\n",
      " [20.25797591]\n",
      " [23.12518792]\n",
      " [10.93181148]\n",
      " [10.19049525]\n",
      " [18.27114945]\n",
      " [11.22252353]\n",
      " [16.37392313]\n",
      " [13.63935217]\n",
      " [ 5.39103244]\n",
      " [22.20466962]\n",
      " [12.4560108 ]\n",
      " [13.54681122]\n",
      " [18.80896022]\n",
      " [11.77091951]\n",
      " [22.25320267]\n",
      " [14.98032459]\n",
      " [19.05321455]\n",
      " [13.9270801 ]\n",
      " [12.06078102]\n",
      " [ 9.26533064]\n",
      " [17.66433995]\n",
      " [ 7.412353  ]]\n"
     ]
    }
   ],
   "source": [
    "predict=lr.predict(x_test)\n",
    "print(predict)\n",
    "#np.set_printoptions(precision=2)\n",
    "#print(np.concatenate((predict.reshape(len(predict),1), y_test.reshape(len(y_test),1)),1))"
   ]
  },
  {
   "cell_type": "code",
   "execution_count": 123,
   "id": "1857fcb8",
   "metadata": {},
   "outputs": [
    {
     "data": {
      "text/plain": [
       "<AxesSubplot:xlabel='TV', ylabel='Sales'>"
      ]
     },
     "execution_count": 123,
     "metadata": {},
     "output_type": "execute_result"
    },
    {
     "data": {
      "image/png": "[encoded data removed]",
      "text/plain": [
       "<Figure size 432x288 with 1 Axes>"
      ]
     },
     "metadata": {
      "needs_background": "light"
     },
     "output_type": "display_data"
    }
   ],
   "source": [
    "sns.regplot(x = \"TV\",\n",
    "            y = \"Sales\", \n",
    "            ci = None,\n",
    "            data = df)\n",
    "# Relation How Tv depends upon Sales"
   ]
  },
  {
   "cell_type": "code",
   "execution_count": 124,
   "id": "837d77fb",
   "metadata": {},
   "outputs": [
    {
     "data": {
      "text/plain": [
       "<AxesSubplot:xlabel='Newspaper', ylabel='Sales'>"
      ]
     },
     "execution_count": 124,
     "metadata": {},
     "output_type": "execute_result"
    },
    {
     "data": {
      "image/png": "[encoded data removed]",
      "text/plain": [
       "<Figure size 432x288 with 1 Axes>"
      ]
     },
     "metadata": {
      "needs_background": "light"
     },
     "output_type": "display_data"
    }
   ],
   "source": [
    "sns.regplot(x = \"Newspaper\",\n",
    "            y = \"Sales\", \n",
    "            ci = None,\n",
    "            data = df)\n",
    "# Relation How Newspaper depends upon Sales"
   ]
  },
  {
   "cell_type": "code",
   "execution_count": 125,
   "id": "5ef60b0d",
   "metadata": {},
   "outputs": [
    {
     "data": {
      "text/plain": [
       "<AxesSubplot:xlabel='Radio', ylabel='Sales'>"
      ]
     },
     "execution_count": 125,
     "metadata": {},
     "output_type": "execute_result"
    },
    {
     "data": {
      "image/png": "[encoded data removed]",
      "text/plain": [
       "<Figure size 432x288 with 1 Axes>"
      ]
     },
     "metadata": {
      "needs_background": "light"
     },
     "output_type": "display_data"
    }
   ],
   "source": [
    "sns.regplot(x = \"Radio\",\n",
    "            y = \"Sales\", \n",
    "            ci = True,\n",
    "            data = df)\n",
    "# Relation How Radio depends upon Sales"
   ]
  },
  {
   "cell_type": "code",
   "execution_count": 126,
   "id": "811080eb",
   "metadata": {},
   "outputs": [
    {
     "data": {
      "text/plain": [
       "<matplotlib.collections.PathCollection at 0x26c210f9960>"
      ]
     },
     "execution_count": 126,
     "metadata": {},
     "output_type": "execute_result"
    },
    {
     "data": {
      "image/png": "[encoded data removed]",
      "text/plain": [
       "<Figure size 432x288 with 1 Axes>"
      ]
     },
     "metadata": {
      "needs_background": "light"
     },
     "output_type": "display_data"
    }
   ],
   "source": [
    "plt.scatter(y_test, predict)"
   ]
  },
  {
   "cell_type": "markdown",
   "id": "0183b1da",
   "metadata": {},
   "source": [
    "# Results and accuracy"
   ]
  },
  {
   "cell_type": "code",
   "execution_count": 127,
   "id": "03e2db78",
   "metadata": {},
   "outputs": [
    {
     "name": "stdout",
     "output_type": "stream",
     "text": [
      "R2 Score:0.8923659850371659\n"
     ]
    }
   ],
   "source": [
    "from sklearn import metrics\n",
    "R2 = metrics.r2_score(y_test, predict)\n",
    "print(\"R2 Score:{}\".format(R2))"
   ]
  },
  {
   "cell_type": "code",
   "execution_count": null,
   "id": "c5b30ff8",
   "metadata": {},
   "outputs": [],
   "source": []
  },
  {
   "cell_type": "code",
   "execution_count": null,
   "id": "5423a6b9",
   "metadata": {},
   "outputs": [],
   "source": []
  }
 ],
 "metadata": {
  "kernelspec": {
   "display_name": "Python 3 (ipykernel)",
   "language": "python",
   "name": "python3"
  },
  "language_info": {
   "codemirror_mode": {
    "name": "ipython",
    "version": 3
   },
   "file_extension": ".py",
   "mimetype": "text/x-python",
   "name": "python",
   "nbconvert_exporter": "python",
   "pygments_lexer": "ipython3",
   "version": "3.10.5"
  }
 },
 "nbformat": 4,
 "nbformat_minor": 5
}
